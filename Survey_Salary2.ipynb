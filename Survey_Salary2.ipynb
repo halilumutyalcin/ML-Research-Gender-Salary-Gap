{
 "cells": [
  {
   "cell_type": "markdown",
   "metadata": {},
   "source": [
    "# Do Females employees make less money? \n",
    "### Exploring Survey Data in Python "
   ]
  },
  {
   "cell_type": "markdown",
   "metadata": {},
   "source": [
    "*Jonathan M. Cabreira*"
   ]
  },
  {
   "cell_type": "markdown",
   "metadata": {},
   "source": [
    "### Survey Data Analysis using pandas, seaborn , matplotlib and scipy"
   ]
  },
  {
   "cell_type": "markdown",
   "metadata": {},
   "source": [
    "This is my first post on Medium and because of that, I decided to practice some statistics with survey data. In order to do that, I'm going to use the Brent Ozar salary survey, which is released every year since 2017, as far as I am aware. The main idea here is to answer the following question : **Do Females employees make less money than male employees?**. Many people would say *\"Yes! They definitely do!\"*, others might say *\"Of course female make less money!\"*. Well, it seems to me that when we make this kind of statement, we must be concerned about something called confirmation bias. In other words, if you believe that women are underpaid in comparison to man, there is a chance that you will assume this statement without deep analysis into the quality of the data you are working on."
   ]
  },
  {
   "cell_type": "markdown",
   "metadata": {},
   "source": [
    "We'll be using pandas, matplotlib, seaborn and scipy to make sense of our data. Moreover, we'll also be using The 2019 Data Professional Salary Survey Results and you can find it at https://www.brentozar.com/archive/2019/01/the-2019-data-professional-salary-survey-results/."
   ]
  },
  {
   "cell_type": "markdown",
   "metadata": {},
   "source": [
    "Take this post as an approach that can help you to analyse some surveys and others any other data you want to statistically examine. "
   ]
  },
  {
   "cell_type": "markdown",
   "metadata": {},
   "source": [
    "# Data Exploration"
   ]
  },
  {
   "cell_type": "markdown",
   "metadata": {},
   "source": [
    "Let's first import some libraries that we will need and then explore the data."
   ]
  },
  {
   "cell_type": "code",
   "execution_count": 2,
   "metadata": {
    "collapsed": true
   },
   "outputs": [],
   "source": [
    "# Import libraries\n",
    "import pandas as pd\n",
    "import numpy as np\n",
    "import matplotlib.pyplot as plt\n",
    "import seaborn as sns\n",
    "%matplotlib inline\n",
    "sns.set_style('ticks')\n",
    "#Ignore woarnings\n",
    "import warnings\n",
    "warnings.filterwarnings('ignore')"
   ]
  },
  {
   "cell_type": "code",
   "execution_count": 2,
   "metadata": {
    "scrolled": false
   },
   "outputs": [
    {
     "data": {
      "text/html": [
       "<div>\n",
       "<style>\n",
       "    .dataframe thead tr:only-child th {\n",
       "        text-align: right;\n",
       "    }\n",
       "\n",
       "    .dataframe thead th {\n",
       "        text-align: left;\n",
       "    }\n",
       "\n",
       "    .dataframe tbody tr th {\n",
       "        vertical-align: top;\n",
       "    }\n",
       "</style>\n",
       "<table border=\"1\" class=\"dataframe\">\n",
       "  <thead>\n",
       "    <tr style=\"text-align: right;\">\n",
       "      <th></th>\n",
       "      <th>Survey Year</th>\n",
       "      <th>Timestamp</th>\n",
       "      <th>SalaryUSD</th>\n",
       "      <th>Country</th>\n",
       "      <th>PostalCode</th>\n",
       "      <th>PrimaryDatabase</th>\n",
       "      <th>YearsWithThisDatabase</th>\n",
       "      <th>OtherDatabases</th>\n",
       "      <th>EmploymentStatus</th>\n",
       "      <th>JobTitle</th>\n",
       "      <th>...</th>\n",
       "      <th>HoursWorkedPerWeek</th>\n",
       "      <th>TelecommuteDaysPerWeek</th>\n",
       "      <th>PopulationOfLargestCityWithin20Miles</th>\n",
       "      <th>EmploymentSector</th>\n",
       "      <th>LookingForAnotherJob</th>\n",
       "      <th>CareerPlansThisYear</th>\n",
       "      <th>Gender</th>\n",
       "      <th>OtherJobDuties</th>\n",
       "      <th>KindsOfTasksPerformed</th>\n",
       "      <th>Counter</th>\n",
       "    </tr>\n",
       "  </thead>\n",
       "  <tbody>\n",
       "    <tr>\n",
       "      <th>0</th>\n",
       "      <td>2017</td>\n",
       "      <td>2017-01-05 05:10:20.451</td>\n",
       "      <td>200000</td>\n",
       "      <td>United States</td>\n",
       "      <td>Not Asked</td>\n",
       "      <td>Microsoft SQL Server</td>\n",
       "      <td>10</td>\n",
       "      <td>MySQL/MariaDB</td>\n",
       "      <td>Full time employee</td>\n",
       "      <td>DBA</td>\n",
       "      <td>...</td>\n",
       "      <td>45</td>\n",
       "      <td>1</td>\n",
       "      <td>Not Asked</td>\n",
       "      <td>Private business</td>\n",
       "      <td>Yes, but only passively (just curious)</td>\n",
       "      <td>Not Asked</td>\n",
       "      <td>Not Asked</td>\n",
       "      <td>Not Asked</td>\n",
       "      <td>Not Asked</td>\n",
       "      <td>1</td>\n",
       "    </tr>\n",
       "    <tr>\n",
       "      <th>1</th>\n",
       "      <td>2017</td>\n",
       "      <td>2017-01-05 05:26:23.388</td>\n",
       "      <td>61515</td>\n",
       "      <td>United Kingdom</td>\n",
       "      <td>Not Asked</td>\n",
       "      <td>Microsoft SQL Server</td>\n",
       "      <td>15</td>\n",
       "      <td>Oracle, PostgreSQL</td>\n",
       "      <td>Full time employee</td>\n",
       "      <td>DBA</td>\n",
       "      <td>...</td>\n",
       "      <td>35</td>\n",
       "      <td>2</td>\n",
       "      <td>Not Asked</td>\n",
       "      <td>Private business</td>\n",
       "      <td>No</td>\n",
       "      <td>Not Asked</td>\n",
       "      <td>Not Asked</td>\n",
       "      <td>Not Asked</td>\n",
       "      <td>Not Asked</td>\n",
       "      <td>1</td>\n",
       "    </tr>\n",
       "    <tr>\n",
       "      <th>2</th>\n",
       "      <td>2017</td>\n",
       "      <td>2017-01-05 05:32:57.367</td>\n",
       "      <td>95000</td>\n",
       "      <td>Germany</td>\n",
       "      <td>Not Asked</td>\n",
       "      <td>Microsoft SQL Server</td>\n",
       "      <td>5</td>\n",
       "      <td>Oracle, MySQL/MariaDB, Informix</td>\n",
       "      <td>Full time employee</td>\n",
       "      <td>Other</td>\n",
       "      <td>...</td>\n",
       "      <td>45</td>\n",
       "      <td>None, or less than 1 day per week</td>\n",
       "      <td>Not Asked</td>\n",
       "      <td>Private business</td>\n",
       "      <td>Yes, but only passively (just curious)</td>\n",
       "      <td>Not Asked</td>\n",
       "      <td>Not Asked</td>\n",
       "      <td>Not Asked</td>\n",
       "      <td>Not Asked</td>\n",
       "      <td>1</td>\n",
       "    </tr>\n",
       "    <tr>\n",
       "      <th>3</th>\n",
       "      <td>2017</td>\n",
       "      <td>2017-01-05 05:33:03.316</td>\n",
       "      <td>56000</td>\n",
       "      <td>United Kingdom</td>\n",
       "      <td>Not Asked</td>\n",
       "      <td>Microsoft SQL Server</td>\n",
       "      <td>6</td>\n",
       "      <td>NaN</td>\n",
       "      <td>Full time employee</td>\n",
       "      <td>DBA</td>\n",
       "      <td>...</td>\n",
       "      <td>40</td>\n",
       "      <td>1</td>\n",
       "      <td>Not Asked</td>\n",
       "      <td>Private business</td>\n",
       "      <td>Yes, but only passively (just curious)</td>\n",
       "      <td>Not Asked</td>\n",
       "      <td>Not Asked</td>\n",
       "      <td>Not Asked</td>\n",
       "      <td>Not Asked</td>\n",
       "      <td>1</td>\n",
       "    </tr>\n",
       "    <tr>\n",
       "      <th>4</th>\n",
       "      <td>2017</td>\n",
       "      <td>2017-01-05 05:34:33.866</td>\n",
       "      <td>35000</td>\n",
       "      <td>France</td>\n",
       "      <td>Not Asked</td>\n",
       "      <td>Microsoft SQL Server</td>\n",
       "      <td>10</td>\n",
       "      <td>Oracle</td>\n",
       "      <td>Full time employee of a consulting/contracting...</td>\n",
       "      <td>DBA</td>\n",
       "      <td>...</td>\n",
       "      <td>40</td>\n",
       "      <td>None, or less than 1 day per week</td>\n",
       "      <td>Not Asked</td>\n",
       "      <td>Private business</td>\n",
       "      <td>Yes, but only passively (just curious)</td>\n",
       "      <td>Not Asked</td>\n",
       "      <td>Not Asked</td>\n",
       "      <td>Not Asked</td>\n",
       "      <td>Not Asked</td>\n",
       "      <td>1</td>\n",
       "    </tr>\n",
       "  </tbody>\n",
       "</table>\n",
       "<p>5 rows × 29 columns</p>\n",
       "</div>"
      ],
      "text/plain": [
       "   Survey Year               Timestamp SalaryUSD         Country PostalCode  \\\n",
       "0         2017 2017-01-05 05:10:20.451    200000   United States  Not Asked   \n",
       "1         2017 2017-01-05 05:26:23.388     61515  United Kingdom  Not Asked   \n",
       "2         2017 2017-01-05 05:32:57.367     95000         Germany  Not Asked   \n",
       "3         2017 2017-01-05 05:33:03.316     56000  United Kingdom  Not Asked   \n",
       "4         2017 2017-01-05 05:34:33.866     35000          France  Not Asked   \n",
       "\n",
       "        PrimaryDatabase  YearsWithThisDatabase  \\\n",
       "0  Microsoft SQL Server                     10   \n",
       "1  Microsoft SQL Server                     15   \n",
       "2  Microsoft SQL Server                      5   \n",
       "3  Microsoft SQL Server                      6   \n",
       "4  Microsoft SQL Server                     10   \n",
       "\n",
       "                    OtherDatabases  \\\n",
       "0                    MySQL/MariaDB   \n",
       "1               Oracle, PostgreSQL   \n",
       "2  Oracle, MySQL/MariaDB, Informix   \n",
       "3                              NaN   \n",
       "4                           Oracle   \n",
       "\n",
       "                                    EmploymentStatus JobTitle   ...     \\\n",
       "0                                 Full time employee      DBA   ...      \n",
       "1                                 Full time employee      DBA   ...      \n",
       "2                                 Full time employee    Other   ...      \n",
       "3                                 Full time employee      DBA   ...      \n",
       "4  Full time employee of a consulting/contracting...      DBA   ...      \n",
       "\n",
       "  HoursWorkedPerWeek             TelecommuteDaysPerWeek  \\\n",
       "0                 45                                  1   \n",
       "1                 35                                  2   \n",
       "2                 45  None, or less than 1 day per week   \n",
       "3                 40                                  1   \n",
       "4                 40  None, or less than 1 day per week   \n",
       "\n",
       "  PopulationOfLargestCityWithin20Miles  EmploymentSector  \\\n",
       "0                            Not Asked  Private business   \n",
       "1                            Not Asked  Private business   \n",
       "2                            Not Asked  Private business   \n",
       "3                            Not Asked  Private business   \n",
       "4                            Not Asked  Private business   \n",
       "\n",
       "                     LookingForAnotherJob  CareerPlansThisYear     Gender  \\\n",
       "0  Yes, but only passively (just curious)            Not Asked  Not Asked   \n",
       "1                                      No            Not Asked  Not Asked   \n",
       "2  Yes, but only passively (just curious)            Not Asked  Not Asked   \n",
       "3  Yes, but only passively (just curious)            Not Asked  Not Asked   \n",
       "4  Yes, but only passively (just curious)            Not Asked  Not Asked   \n",
       "\n",
       "  OtherJobDuties KindsOfTasksPerformed  Counter  \n",
       "0      Not Asked             Not Asked        1  \n",
       "1      Not Asked             Not Asked        1  \n",
       "2      Not Asked             Not Asked        1  \n",
       "3      Not Asked             Not Asked        1  \n",
       "4      Not Asked             Not Asked        1  \n",
       "\n",
       "[5 rows x 29 columns]"
      ]
     },
     "execution_count": 2,
     "metadata": {},
     "output_type": "execute_result"
    }
   ],
   "source": [
    "# Import data\n",
    "raw_data = pd.read_excel('2019_Data_Professional_Salary_Survey_Responses.xlsx',header = 2)\n",
    "raw_data.head()"
   ]
  },
  {
   "cell_type": "code",
   "execution_count": 4,
   "metadata": {},
   "outputs": [
    {
     "name": "stdout",
     "output_type": "stream",
     "text": [
      "<class 'pandas.core.frame.DataFrame'>\n",
      "RangeIndex: 6893 entries, 0 to 6892\n",
      "Data columns (total 29 columns):\n",
      "Survey Year                             6893 non-null int64\n",
      "Timestamp                               6893 non-null datetime64[ns]\n",
      "SalaryUSD                               6893 non-null object\n",
      "Country                                 6893 non-null object\n",
      "PostalCode                              5934 non-null object\n",
      "PrimaryDatabase                         6893 non-null object\n",
      "YearsWithThisDatabase                   6893 non-null int64\n",
      "OtherDatabases                          5520 non-null object\n",
      "EmploymentStatus                        6893 non-null object\n",
      "JobTitle                                6893 non-null object\n",
      "ManageStaff                             6893 non-null object\n",
      "YearsWithThisTypeOfJob                  6893 non-null int64\n",
      "HowManyCompanies                        6893 non-null object\n",
      "OtherPeopleOnYourTeam                   6893 non-null object\n",
      "CompanyEmployeesOverall                 6893 non-null object\n",
      "DatabaseServers                         6893 non-null int64\n",
      "Education                               6893 non-null object\n",
      "EducationIsComputerRelated              5677 non-null object\n",
      "Certifications                          6893 non-null object\n",
      "HoursWorkedPerWeek                      6893 non-null int64\n",
      "TelecommuteDaysPerWeek                  6893 non-null object\n",
      "PopulationOfLargestCityWithin20Miles    6893 non-null object\n",
      "EmploymentSector                        6893 non-null object\n",
      "LookingForAnotherJob                    6893 non-null object\n",
      "CareerPlansThisYear                     6893 non-null object\n",
      "Gender                                  6893 non-null object\n",
      "OtherJobDuties                          6273 non-null object\n",
      "KindsOfTasksPerformed                   6686 non-null object\n",
      "Counter                                 6893 non-null int64\n",
      "dtypes: datetime64[ns](1), int64(6), object(22)\n",
      "memory usage: 1.5+ MB\n"
     ]
    }
   ],
   "source": [
    "#Let's take a look at the data type and check if there are nan variables in the data set\n",
    "raw_data.info()"
   ]
  },
  {
   "cell_type": "markdown",
   "metadata": {},
   "source": [
    "As we can see below, we have some columns with missing values. This is not an issue for us , due to the fact that we won't be using these features ( columns ) in our analysis."
   ]
  },
  {
   "cell_type": "code",
   "execution_count": 5,
   "metadata": {},
   "outputs": [
    {
     "data": {
      "text/plain": [
       "Survey Year                                0\n",
       "Timestamp                                  0\n",
       "SalaryUSD                                  0\n",
       "Country                                    0\n",
       "PostalCode                               959\n",
       "PrimaryDatabase                            0\n",
       "YearsWithThisDatabase                      0\n",
       "OtherDatabases                          1373\n",
       "EmploymentStatus                           0\n",
       "JobTitle                                   0\n",
       "ManageStaff                                0\n",
       "YearsWithThisTypeOfJob                     0\n",
       "HowManyCompanies                           0\n",
       "OtherPeopleOnYourTeam                      0\n",
       "CompanyEmployeesOverall                    0\n",
       "DatabaseServers                            0\n",
       "Education                                  0\n",
       "EducationIsComputerRelated              1216\n",
       "Certifications                             0\n",
       "HoursWorkedPerWeek                         0\n",
       "TelecommuteDaysPerWeek                     0\n",
       "PopulationOfLargestCityWithin20Miles       0\n",
       "EmploymentSector                           0\n",
       "LookingForAnotherJob                       0\n",
       "CareerPlansThisYear                        0\n",
       "Gender                                     0\n",
       "OtherJobDuties                           620\n",
       "KindsOfTasksPerformed                    207\n",
       "Counter                                    0\n",
       "dtype: int64"
      ]
     },
     "execution_count": 5,
     "metadata": {},
     "output_type": "execute_result"
    }
   ],
   "source": [
    "raw_data.isnull().sum()"
   ]
  },
  {
   "cell_type": "markdown",
   "metadata": {},
   "source": [
    "The first thing that catches my eye is the SalaryUSD column. This feature must be numerical, and in order to do some math with this data, we have to convert them into float.In addition, after a few observations I've noticed that there are some characteres in the Salary column that should be deleted. Also, due to the fact that some rows have been identified as integer and others as float, I've created a function to treat all this data convert them into string and then, convert the entire column into float. Finally, all the spaces (' ') on the column labels of the DataFrame have been replaced with an underscore ('_'). "
   ]
  },
  {
   "cell_type": "code",
   "execution_count": 6,
   "metadata": {
    "collapsed": true
   },
   "outputs": [],
   "source": [
    "#Convert all of the salary rows into string\n",
    "def str_salary(salary):\n",
    "    sep = '.'\n",
    "    if type(salary) == int:\n",
    "        salary = str(salary)\n",
    "    elif type(salary) == str:\n",
    "        # Replace characteres and take the cents out of our data\n",
    "        salary = salary.replace(\" \",\"\").replace(\"$\",\"\").replace(\",\",\"\").split(sep)[0]\n",
    "    elif type(salary) == float:\n",
    "        salary = str(salary)\n",
    "        \n",
    "    return salary"
   ]
  },
  {
   "cell_type": "code",
   "execution_count": 7,
   "metadata": {
    "collapsed": true
   },
   "outputs": [],
   "source": [
    "# Replace spaces(\" \") in columns name with underscore (\"_\")\n",
    "raw_data.columns = raw_data.columns.str.replace(\" \",\"_\")"
   ]
  },
  {
   "cell_type": "code",
   "execution_count": 8,
   "metadata": {},
   "outputs": [
    {
     "data": {
      "text/plain": [
       "0    200000\n",
       "1     61515\n",
       "2     95000\n",
       "3     56000\n",
       "4     35000\n",
       "Name: SalaryUSD, dtype: object"
      ]
     },
     "execution_count": 8,
     "metadata": {},
     "output_type": "execute_result"
    }
   ],
   "source": [
    "# Apply str_salary function\n",
    "raw_data['SalaryUSD'] = raw_data.SalaryUSD.apply(str_salary)\n",
    "raw_data['SalaryUSD'].head()"
   ]
  },
  {
   "cell_type": "code",
   "execution_count": 9,
   "metadata": {},
   "outputs": [
    {
     "data": {
      "text/plain": [
       "0    200000.0\n",
       "1     61515.0\n",
       "2     95000.0\n",
       "3     56000.0\n",
       "4     35000.0\n",
       "Name: SalaryUSD, dtype: float64"
      ]
     },
     "execution_count": 9,
     "metadata": {},
     "output_type": "execute_result"
    }
   ],
   "source": [
    "#Convert the salary column into float\n",
    "raw_data['SalaryUSD'] = raw_data.SalaryUSD.astype(float)\n",
    "raw_data['SalaryUSD'].head()"
   ]
  },
  {
   "cell_type": "markdown",
   "metadata": {},
   "source": [
    "In order to analyse only 2019 data, we will filter the dataframe by year and  by the columns that are relevant to our analysis."
   ]
  },
  {
   "cell_type": "code",
   "execution_count": 10,
   "metadata": {},
   "outputs": [
    {
     "data": {
      "text/html": [
       "<div>\n",
       "<style>\n",
       "    .dataframe thead tr:only-child th {\n",
       "        text-align: right;\n",
       "    }\n",
       "\n",
       "    .dataframe thead th {\n",
       "        text-align: left;\n",
       "    }\n",
       "\n",
       "    .dataframe tbody tr th {\n",
       "        vertical-align: top;\n",
       "    }\n",
       "</style>\n",
       "<table border=\"1\" class=\"dataframe\">\n",
       "  <thead>\n",
       "    <tr style=\"text-align: right;\">\n",
       "      <th></th>\n",
       "      <th>Survey_Year</th>\n",
       "      <th>Country</th>\n",
       "      <th>SalaryUSD</th>\n",
       "      <th>JobTitle</th>\n",
       "      <th>YearsWithThisTypeOfJob</th>\n",
       "      <th>Education</th>\n",
       "      <th>Certifications</th>\n",
       "      <th>PopulationOfLargestCityWithin20Miles</th>\n",
       "      <th>Gender</th>\n",
       "    </tr>\n",
       "  </thead>\n",
       "  <tbody>\n",
       "    <tr>\n",
       "      <th>6011</th>\n",
       "      <td>2019</td>\n",
       "      <td>United States</td>\n",
       "      <td>128500.0</td>\n",
       "      <td>Architect</td>\n",
       "      <td>15</td>\n",
       "      <td>Bachelors (4 years)</td>\n",
       "      <td>No, I never have</td>\n",
       "      <td>300K-1M (large city)</td>\n",
       "      <td>Male</td>\n",
       "    </tr>\n",
       "    <tr>\n",
       "      <th>6012</th>\n",
       "      <td>2019</td>\n",
       "      <td>United Kingdom</td>\n",
       "      <td>52922.0</td>\n",
       "      <td>DBA (Development Focus - tunes queries, indexe...</td>\n",
       "      <td>2</td>\n",
       "      <td>Bachelors (4 years)</td>\n",
       "      <td>No, I never have</td>\n",
       "      <td>300K-1M (large city)</td>\n",
       "      <td>Male</td>\n",
       "    </tr>\n",
       "    <tr>\n",
       "      <th>6013</th>\n",
       "      <td>2019</td>\n",
       "      <td>United States</td>\n",
       "      <td>110000.0</td>\n",
       "      <td>DBA (Development Focus - tunes queries, indexe...</td>\n",
       "      <td>18</td>\n",
       "      <td>Bachelors (4 years)</td>\n",
       "      <td>Yes, and they're currently valid</td>\n",
       "      <td>1M+ (metropolis)</td>\n",
       "      <td>Male</td>\n",
       "    </tr>\n",
       "    <tr>\n",
       "      <th>6014</th>\n",
       "      <td>2019</td>\n",
       "      <td>United Kingdom</td>\n",
       "      <td>73000.0</td>\n",
       "      <td>DBA (Production Focus - build &amp; troubleshoot s...</td>\n",
       "      <td>8</td>\n",
       "      <td>None (no degree completed)</td>\n",
       "      <td>No, I never have</td>\n",
       "      <td>1M+ (metropolis)</td>\n",
       "      <td>Male</td>\n",
       "    </tr>\n",
       "    <tr>\n",
       "      <th>6015</th>\n",
       "      <td>2019</td>\n",
       "      <td>United States</td>\n",
       "      <td>65000.0</td>\n",
       "      <td>Developer: T-SQL</td>\n",
       "      <td>3</td>\n",
       "      <td>None (no degree completed)</td>\n",
       "      <td>Yes, and they're currently valid</td>\n",
       "      <td>100K-299K (city)</td>\n",
       "      <td>Male</td>\n",
       "    </tr>\n",
       "  </tbody>\n",
       "</table>\n",
       "</div>"
      ],
      "text/plain": [
       "      Survey_Year         Country  SalaryUSD  \\\n",
       "6011         2019   United States   128500.0   \n",
       "6012         2019  United Kingdom    52922.0   \n",
       "6013         2019   United States   110000.0   \n",
       "6014         2019  United Kingdom    73000.0   \n",
       "6015         2019   United States    65000.0   \n",
       "\n",
       "                                               JobTitle  \\\n",
       "6011                                          Architect   \n",
       "6012  DBA (Development Focus - tunes queries, indexe...   \n",
       "6013  DBA (Development Focus - tunes queries, indexe...   \n",
       "6014  DBA (Production Focus - build & troubleshoot s...   \n",
       "6015                                   Developer: T-SQL   \n",
       "\n",
       "      YearsWithThisTypeOfJob                   Education  \\\n",
       "6011                      15         Bachelors (4 years)   \n",
       "6012                       2         Bachelors (4 years)   \n",
       "6013                      18         Bachelors (4 years)   \n",
       "6014                       8  None (no degree completed)   \n",
       "6015                       3  None (no degree completed)   \n",
       "\n",
       "                        Certifications PopulationOfLargestCityWithin20Miles  \\\n",
       "6011                  No, I never have                 300K-1M (large city)   \n",
       "6012                  No, I never have                 300K-1M (large city)   \n",
       "6013  Yes, and they're currently valid                     1M+ (metropolis)   \n",
       "6014                  No, I never have                     1M+ (metropolis)   \n",
       "6015  Yes, and they're currently valid                     100K-299K (city)   \n",
       "\n",
       "     Gender  \n",
       "6011   Male  \n",
       "6012   Male  \n",
       "6013   Male  \n",
       "6014   Male  \n",
       "6015   Male  "
      ]
     },
     "execution_count": 10,
     "metadata": {},
     "output_type": "execute_result"
    }
   ],
   "source": [
    "df = raw_data.loc[raw_data.Survey_Year == 2019, ['Survey_Year','Country','SalaryUSD','JobTitle','YearsWithThisTypeOfJob','Education','Certifications','PopulationOfLargestCityWithin20Miles', 'Gender' ]]\n",
    "df.head()"
   ]
  },
  {
   "cell_type": "markdown",
   "metadata": {},
   "source": [
    "Since we have defined our dataframe, we are now able to get some information. First, let's count the numbers of employees by country and work on the one on which we have more data. Second, we'll count the number of employees **by** job title and finally, count the total of men and women. "
   ]
  },
  {
   "cell_type": "code",
   "execution_count": 11,
   "metadata": {
    "scrolled": true
   },
   "outputs": [
    {
     "data": {
      "text/plain": [
       "United States            602\n",
       "United Kingdom            72\n",
       "Canada                    29\n",
       "Australia                 25\n",
       "Germany                   17\n",
       "Ukraine                   13\n",
       "New Zealand               11\n",
       "Netherlands               11\n",
       "Poland                     9\n",
       "Switzerland                9\n",
       "Romania                    8\n",
       "Denmark                    7\n",
       "Sweden                     6\n",
       "Belgium                    5\n",
       "Spain                      4\n",
       "Ireland                    4\n",
       "South Africa               4\n",
       "Greece                     3\n",
       "Norway                     3\n",
       "Slovenia                   3\n",
       "Hungary                    3\n",
       "Italy                      2\n",
       "Serbia and Montenegro      2\n",
       "France                     2\n",
       "Brazil                     2\n",
       "Czech Republic             2\n",
       "Portugal                   2\n",
       "Finland                    2\n",
       "Israel                     2\n",
       "India                      2\n",
       "Puerto Rico                1\n",
       "Croatia                    1\n",
       "Guernsey                   1\n",
       "Slovakia                   1\n",
       "Macedonia                  1\n",
       "Russia                     1\n",
       "Taiwan                     1\n",
       "Mexico                     1\n",
       "Lithuania                  1\n",
       "Austria                    1\n",
       "Bulgaria                   1\n",
       "Peru                       1\n",
       "Jersey                     1\n",
       "Hong Kong                  1\n",
       "Latvia                     1\n",
       "Iceland                    1\n",
       "Name: Country, dtype: int64"
      ]
     },
     "execution_count": 11,
     "metadata": {},
     "output_type": "execute_result"
    }
   ],
   "source": [
    "# Answers by Country\n",
    "df.Country.value_counts()"
   ]
  },
  {
   "cell_type": "markdown",
   "metadata": {},
   "source": [
    "As we can see, we have way more employees from US in this survey and, because of that we'll filter our dataframe in order to **work only with the United States data.** "
   ]
  },
  {
   "cell_type": "code",
   "execution_count": 13,
   "metadata": {},
   "outputs": [
    {
     "data": {
      "text/html": [
       "<div>\n",
       "<style>\n",
       "    .dataframe thead tr:only-child th {\n",
       "        text-align: right;\n",
       "    }\n",
       "\n",
       "    .dataframe thead th {\n",
       "        text-align: left;\n",
       "    }\n",
       "\n",
       "    .dataframe tbody tr th {\n",
       "        vertical-align: top;\n",
       "    }\n",
       "</style>\n",
       "<table border=\"1\" class=\"dataframe\">\n",
       "  <thead>\n",
       "    <tr style=\"text-align: right;\">\n",
       "      <th></th>\n",
       "      <th>Survey_Year</th>\n",
       "      <th>Country</th>\n",
       "      <th>SalaryUSD</th>\n",
       "      <th>JobTitle</th>\n",
       "      <th>YearsWithThisTypeOfJob</th>\n",
       "      <th>Education</th>\n",
       "      <th>Certifications</th>\n",
       "      <th>PopulationOfLargestCityWithin20Miles</th>\n",
       "      <th>Gender</th>\n",
       "    </tr>\n",
       "  </thead>\n",
       "  <tbody>\n",
       "    <tr>\n",
       "      <th>6011</th>\n",
       "      <td>2019</td>\n",
       "      <td>United States</td>\n",
       "      <td>128500.0</td>\n",
       "      <td>Architect</td>\n",
       "      <td>15</td>\n",
       "      <td>Bachelors (4 years)</td>\n",
       "      <td>No, I never have</td>\n",
       "      <td>300K-1M (large city)</td>\n",
       "      <td>Male</td>\n",
       "    </tr>\n",
       "    <tr>\n",
       "      <th>6013</th>\n",
       "      <td>2019</td>\n",
       "      <td>United States</td>\n",
       "      <td>110000.0</td>\n",
       "      <td>DBA (Development Focus - tunes queries, indexe...</td>\n",
       "      <td>18</td>\n",
       "      <td>Bachelors (4 years)</td>\n",
       "      <td>Yes, and they're currently valid</td>\n",
       "      <td>1M+ (metropolis)</td>\n",
       "      <td>Male</td>\n",
       "    </tr>\n",
       "    <tr>\n",
       "      <th>6015</th>\n",
       "      <td>2019</td>\n",
       "      <td>United States</td>\n",
       "      <td>65000.0</td>\n",
       "      <td>Developer: T-SQL</td>\n",
       "      <td>3</td>\n",
       "      <td>None (no degree completed)</td>\n",
       "      <td>Yes, and they're currently valid</td>\n",
       "      <td>100K-299K (city)</td>\n",
       "      <td>Male</td>\n",
       "    </tr>\n",
       "  </tbody>\n",
       "</table>\n",
       "</div>"
      ],
      "text/plain": [
       "      Survey_Year        Country  SalaryUSD  \\\n",
       "6011         2019  United States   128500.0   \n",
       "6013         2019  United States   110000.0   \n",
       "6015         2019  United States    65000.0   \n",
       "\n",
       "                                               JobTitle  \\\n",
       "6011                                          Architect   \n",
       "6013  DBA (Development Focus - tunes queries, indexe...   \n",
       "6015                                   Developer: T-SQL   \n",
       "\n",
       "      YearsWithThisTypeOfJob                   Education  \\\n",
       "6011                      15         Bachelors (4 years)   \n",
       "6013                      18         Bachelors (4 years)   \n",
       "6015                       3  None (no degree completed)   \n",
       "\n",
       "                        Certifications PopulationOfLargestCityWithin20Miles  \\\n",
       "6011                  No, I never have                 300K-1M (large city)   \n",
       "6013  Yes, and they're currently valid                     1M+ (metropolis)   \n",
       "6015  Yes, and they're currently valid                     100K-299K (city)   \n",
       "\n",
       "     Gender  \n",
       "6011   Male  \n",
       "6013   Male  \n",
       "6015   Male  "
      ]
     },
     "execution_count": 13,
     "metadata": {},
     "output_type": "execute_result"
    }
   ],
   "source": [
    "#Filter dataframe by country\n",
    "US_2019 = df.loc[df.Country == 'United States',:]\n",
    "US_2019.head(3)"
   ]
  },
  {
   "cell_type": "markdown",
   "metadata": {},
   "source": [
    "So, let's take a look at the number of **employees by their genders** and see if we can take some information out of it. Are the number of female and male employees equal or,at least, is it close to equal ? Lets check this out!  "
   ]
  },
  {
   "cell_type": "code",
   "execution_count": 14,
   "metadata": {},
   "outputs": [
    {
     "data": {
      "text/plain": [
       "Male                       541\n",
       "Female                      60\n",
       "Non-binary/third gender      1\n",
       "Name: Gender, dtype: int64"
      ]
     },
     "execution_count": 14,
     "metadata": {},
     "output_type": "execute_result"
    }
   ],
   "source": [
    "US_2019.Gender.value_counts()"
   ]
  },
  {
   "cell_type": "markdown",
   "metadata": {},
   "source": [
    "It seems that we have an issue here. Unfortunately,the total number of males is way greater than the total of females. Also, we are not able to get any statistical information from the non-binary gender due to the fact that only one non-binary person answerd the survey in 2019. So, let's drop this specific row and focus only on two genders."
   ]
  },
  {
   "cell_type": "code",
   "execution_count": 15,
   "metadata": {},
   "outputs": [
    {
     "data": {
      "text/plain": [
       "Male      541\n",
       "Female     60\n",
       "Name: Gender, dtype: int64"
      ]
     },
     "execution_count": 15,
     "metadata": {},
     "output_type": "execute_result"
    }
   ],
   "source": [
    "# Delet the row - Non-binary/third gender\n",
    "US_2019 = US_2019[US_2019.Gender != 'Non-binary/third gender']\n",
    "US_2019.Gender.value_counts()\n"
   ]
  },
  {
   "cell_type": "markdown",
   "metadata": {},
   "source": [
    "OK, we already know that (unfortunately) the number of female is way lower than the number of male. Lets now answer the following question: how are the genders distributed in terms of job title ? Let's first count the number of employess in each position. \n",
    "\n"
   ]
  },
  {
   "cell_type": "code",
   "execution_count": 16,
   "metadata": {},
   "outputs": [
    {
     "data": {
      "text/plain": [
       "DBA (General - splits time evenly between writing & tuning queries AND building & troubleshooting servers)    157\n",
       "DBA (Production Focus - build & troubleshoot servers, HA/DR)                                                   97\n",
       "Developer: T-SQL                                                                                               61\n",
       "Architect                                                                                                      50\n",
       "Analyst                                                                                                        49\n",
       "Developer: Business Intelligence (SSRS, PowerBI, etc)                                                          47\n",
       "DBA (Development Focus - tunes queries, indexes, does deployments)                                             40\n",
       "Manager                                                                                                        36\n",
       "Developer: App code (C#, JS, etc)                                                                              30\n",
       "Engineer                                                                                                       21\n",
       "Other                                                                                                           9\n",
       "Data Scientist                                                                                                  4\n",
       "Name: JobTitle, dtype: int64"
      ]
     },
     "execution_count": 16,
     "metadata": {},
     "output_type": "execute_result"
    }
   ],
   "source": [
    "# Job Titles \n",
    "US_2019.JobTitle.value_counts()"
   ]
  },
  {
   "cell_type": "markdown",
   "metadata": {},
   "source": [
    "To my surprise, we have only 4 Data Scientists and 21 Engineers... Ok, let's not consider this! So, now we have an overview of job titles in this survey. How about the distribution of gender by job title? Let's check this out!\n"
   ]
  },
  {
   "cell_type": "code",
   "execution_count": 17,
   "metadata": {},
   "outputs": [
    {
     "data": {
      "text/html": [
       "<div>\n",
       "<style>\n",
       "    .dataframe thead tr:only-child th {\n",
       "        text-align: right;\n",
       "    }\n",
       "\n",
       "    .dataframe thead th {\n",
       "        text-align: left;\n",
       "    }\n",
       "\n",
       "    .dataframe tbody tr th {\n",
       "        vertical-align: top;\n",
       "    }\n",
       "</style>\n",
       "<table border=\"1\" class=\"dataframe\">\n",
       "  <thead>\n",
       "    <tr style=\"text-align: right;\">\n",
       "      <th></th>\n",
       "      <th></th>\n",
       "      <th>SalaryUSD</th>\n",
       "    </tr>\n",
       "    <tr>\n",
       "      <th>JobTitle</th>\n",
       "      <th>Gender</th>\n",
       "      <th></th>\n",
       "    </tr>\n",
       "  </thead>\n",
       "  <tbody>\n",
       "    <tr>\n",
       "      <th rowspan=\"2\" valign=\"top\">Analyst</th>\n",
       "      <th>Female</th>\n",
       "      <td>6</td>\n",
       "    </tr>\n",
       "    <tr>\n",
       "      <th>Male</th>\n",
       "      <td>43</td>\n",
       "    </tr>\n",
       "    <tr>\n",
       "      <th rowspan=\"2\" valign=\"top\">Architect</th>\n",
       "      <th>Female</th>\n",
       "      <td>3</td>\n",
       "    </tr>\n",
       "    <tr>\n",
       "      <th>Male</th>\n",
       "      <td>47</td>\n",
       "    </tr>\n",
       "    <tr>\n",
       "      <th rowspan=\"2\" valign=\"top\">DBA (Development Focus - tunes queries, indexes, does deployments)</th>\n",
       "      <th>Female</th>\n",
       "      <td>4</td>\n",
       "    </tr>\n",
       "    <tr>\n",
       "      <th>Male</th>\n",
       "      <td>36</td>\n",
       "    </tr>\n",
       "    <tr>\n",
       "      <th rowspan=\"2\" valign=\"top\">DBA (General - splits time evenly between writing &amp; tuning queries AND building &amp; troubleshooting servers)</th>\n",
       "      <th>Female</th>\n",
       "      <td>18</td>\n",
       "    </tr>\n",
       "    <tr>\n",
       "      <th>Male</th>\n",
       "      <td>139</td>\n",
       "    </tr>\n",
       "    <tr>\n",
       "      <th rowspan=\"2\" valign=\"top\">DBA (Production Focus - build &amp; troubleshoot servers, HA/DR)</th>\n",
       "      <th>Female</th>\n",
       "      <td>13</td>\n",
       "    </tr>\n",
       "    <tr>\n",
       "      <th>Male</th>\n",
       "      <td>84</td>\n",
       "    </tr>\n",
       "    <tr>\n",
       "      <th>Data Scientist</th>\n",
       "      <th>Male</th>\n",
       "      <td>4</td>\n",
       "    </tr>\n",
       "    <tr>\n",
       "      <th>Developer: App code (C#, JS, etc)</th>\n",
       "      <th>Male</th>\n",
       "      <td>30</td>\n",
       "    </tr>\n",
       "    <tr>\n",
       "      <th rowspan=\"2\" valign=\"top\">Developer: Business Intelligence (SSRS, PowerBI, etc)</th>\n",
       "      <th>Female</th>\n",
       "      <td>4</td>\n",
       "    </tr>\n",
       "    <tr>\n",
       "      <th>Male</th>\n",
       "      <td>43</td>\n",
       "    </tr>\n",
       "    <tr>\n",
       "      <th rowspan=\"2\" valign=\"top\">Developer: T-SQL</th>\n",
       "      <th>Female</th>\n",
       "      <td>7</td>\n",
       "    </tr>\n",
       "    <tr>\n",
       "      <th>Male</th>\n",
       "      <td>54</td>\n",
       "    </tr>\n",
       "    <tr>\n",
       "      <th rowspan=\"2\" valign=\"top\">Engineer</th>\n",
       "      <th>Female</th>\n",
       "      <td>2</td>\n",
       "    </tr>\n",
       "    <tr>\n",
       "      <th>Male</th>\n",
       "      <td>19</td>\n",
       "    </tr>\n",
       "    <tr>\n",
       "      <th rowspan=\"2\" valign=\"top\">Manager</th>\n",
       "      <th>Female</th>\n",
       "      <td>2</td>\n",
       "    </tr>\n",
       "    <tr>\n",
       "      <th>Male</th>\n",
       "      <td>34</td>\n",
       "    </tr>\n",
       "    <tr>\n",
       "      <th rowspan=\"2\" valign=\"top\">Other</th>\n",
       "      <th>Female</th>\n",
       "      <td>1</td>\n",
       "    </tr>\n",
       "    <tr>\n",
       "      <th>Male</th>\n",
       "      <td>8</td>\n",
       "    </tr>\n",
       "  </tbody>\n",
       "</table>\n",
       "</div>"
      ],
      "text/plain": [
       "                                                           SalaryUSD\n",
       "JobTitle                                           Gender           \n",
       "Analyst                                            Female          6\n",
       "                                                   Male           43\n",
       "Architect                                          Female          3\n",
       "                                                   Male           47\n",
       "DBA (Development Focus - tunes queries, indexes... Female          4\n",
       "                                                   Male           36\n",
       "DBA (General - splits time evenly between writi... Female         18\n",
       "                                                   Male          139\n",
       "DBA (Production Focus - build & troubleshoot se... Female         13\n",
       "                                                   Male           84\n",
       "Data Scientist                                     Male            4\n",
       "Developer: App code (C#, JS, etc)                  Male           30\n",
       "Developer: Business Intelligence (SSRS, PowerBI... Female          4\n",
       "                                                   Male           43\n",
       "Developer: T-SQL                                   Female          7\n",
       "                                                   Male           54\n",
       "Engineer                                           Female          2\n",
       "                                                   Male           19\n",
       "Manager                                            Female          2\n",
       "                                                   Male           34\n",
       "Other                                              Female          1\n",
       "                                                   Male            8"
      ]
     },
     "execution_count": 17,
     "metadata": {},
     "output_type": "execute_result"
    }
   ],
   "source": [
    "# number of each gender by job title\n",
    "Gender_df = US_2019.loc[ : , ['JobTitle', 'Gender', 'SalaryUSD' ]]\n",
    "Count_gender = Gender_df.pivot_table(Gender_df, index = ['JobTitle', 'Gender'], aggfunc= 'count')\n",
    "Count_gender"
   ]
  },
  {
   "cell_type": "markdown",
   "metadata": {},
   "source": [
    "I don't know about you guys, but I am the visual kind of learner and that's the reason why I really like to build graphs and tables. We can use the seaborn library to build a bar chart with the information we have just checked."
   ]
  },
  {
   "cell_type": "code",
   "execution_count": 18,
   "metadata": {},
   "outputs": [
    {
     "data": {
      "text/plain": [
       "<matplotlib.text.Text at 0x294bfb49eb8>"
      ]
     },
     "execution_count": 18,
     "metadata": {},
     "output_type": "execute_result"
    },
    {
     "data": {
      "image/png": "[encoded data removed]",
      "text/plain": [
       "<matplotlib.figure.Figure at 0x294bb6acba8>"
      ]
     },
     "metadata": {},
     "output_type": "display_data"
    }
   ],
   "source": [
    "import seaborn as sns\n",
    "# use Seaborn styles\n",
    "sns.set()\n",
    "pd.pivot_table(Gender_df, index= 'JobTitle', columns= 'Gender', aggfunc= 'count').plot(kind= 'barh', figsize= (9,9))\n",
    "plt.xlabel(\"Salary USD\")\n"
   ]
  },
  {
   "cell_type": "markdown",
   "metadata": {},
   "source": [
    "The chart above ** clearly shows** a gap between genders, not only regarding the employees  who have answerd this survey in general but also concerning job titles. Have you noticed this in your company?\n",
    "\n",
    "\n"
   ]
  },
  {
   "cell_type": "markdown",
   "metadata": {},
   "source": [
    "Great.Now we know that there are 541 males and 60 female in our survey and we also know that there are way more male employees in all of the positions. It's important to notice that we cannot guarantee that these facts are absolutely true because we don't know how exactly the survey was conducted. Moreover, we have to be aware of the representativeness of our online samples so that we can trust in the validity of conclusions derived from our internet survey data. In other words, the data might be biased.\n",
    "\n",
    "For instance, when conducting a survey, we are prone to over-sample some kinds of people ( employees in this case) and under-sample others. Not all endividuals know Brent Ozar's website - the one responsible for the survey, and others are more unlikely to participate in this survey if this kind of subject matter does not interests them.\n",
    "\n",
    "We could try to deal with this issue using statistic techniques such as weighting, to compansate for this type of 'sampling bias'. This is not the case of our analysis, we will just draw some straightforward insights from our data and practice some basic statistics since we are not really worried about that topic.\n"
   ]
  },
  {
   "cell_type": "markdown",
   "metadata": {},
   "source": [
    "# Salary "
   ]
  },
  {
   "cell_type": "markdown",
   "metadata": {},
   "source": [
    "It's time look to at the salary data so we can check if there is gap **in it**. It's important to bear in mind that we won't  take into account some features such as years of experience, education and size of the company because we just want to answer the simple question : **Is there a gap between female and male salaries?** I would use those features, for example, to answer **why** there is or there isn't a gap between the genders.That being said, let's **work with** the salary column for our analysis."
   ]
  },
  {
   "cell_type": "markdown",
   "metadata": {},
   "source": [
    "A histogram shows frequency for intervals of values of a metric variable by grouping data into bins. Lets take a look at the distribution of the salary.  How do you expect it to be ? well, I would suppose that it looks like a gaussian distribution positively skewed with very few employees making more than a specific threshold ( maybe $ 150k).\n"
   ]
  },
  {
   "cell_type": "code",
   "execution_count": 19,
   "metadata": {},
   "outputs": [
    {
     "data": {
      "text/plain": [
       "<matplotlib.axes._subplots.AxesSubplot at 0x294bfa1df98>"
      ]
     },
     "execution_count": 19,
     "metadata": {},
     "output_type": "execute_result"
    },
    {
     "data": {
      "image/png": "[encoded data removed]",
      "text/plain": [
       "<matplotlib.figure.Figure at 0x294bf244828>"
      ]
     },
     "metadata": {},
     "output_type": "display_data"
    }
   ],
   "source": [
    "#Import sub-package stats from scipy library\n",
    "from scipy import stats\n",
    "sns.distplot(US_2019.SalaryUSD, fit = stats.norm)"
   ]
  },
  {
   "cell_type": "markdown",
   "metadata": {},
   "source": [
    "Good guess! The histogram above is similar(not exactly the same) to what I've expected.The data looks close to a normal distribution or, at least, it seems to be bell-shaped. Is it normal? Let's check it.\n"
   ]
  },
  {
   "cell_type": "markdown",
   "metadata": {},
   "source": [
    "## Normality Test"
   ]
  },
  {
   "cell_type": "markdown",
   "metadata": {},
   "source": [
    "We will test the normality of our data through one qualitative analyses ( Q-Q plot) and two quantitative tests (Shapiro-Wilk and D'Agosino's k2 tests).\n"
   ]
  },
  {
   "cell_type": "markdown",
   "metadata": {},
   "source": [
    "### Qualitative Normality Test "
   ]
  },
  {
   "cell_type": "markdown",
   "metadata": {},
   "source": [
    "### Q-Q Test"
   ]
  },
  {
   "cell_type": "markdown",
   "metadata": {},
   "source": [
    "The Q-Q plot is a popular plot for checking the data distribution. The Quantile-Quantile plot or Q-Q plot generate it's own sample of the distrution we are comparing it with ( Normal distributio in this case). The genarated sample is divided into quantiles and each data point in the sample is combined with a similar member from the distribution we are comparing with at the same cumulative distribution. As a result, we have a scatter plot with the theoretical values on the x-axis and the data sample quantiles on the y-axis.\n",
    "\n",
    "\n",
    "For more information about q-q plot, check this out:\n",
    "https://data.library.virginia.edu/understanding-q-q-plots/\n",
    "\n",
    "http://www.statsmodels.org/dev/generated/statsmodels.graphics.gofplots.qqplot.html"
   ]
  },
  {
   "cell_type": "code",
   "execution_count": 20,
   "metadata": {},
   "outputs": [
    {
     "data": {
      "image/png": "[encoded data removed]",
      "text/plain": [
       "<matplotlib.figure.Figure at 0x294bff63470>"
      ]
     },
     "execution_count": 20,
     "metadata": {},
     "output_type": "execute_result"
    },
    {
     "data": {
      "image/png": "[encoded data removed]",
      "text/plain": [
       "<matplotlib.figure.Figure at 0x294bff63470>"
      ]
     },
     "metadata": {},
     "output_type": "display_data"
    }
   ],
   "source": [
    "#Import qqplot\n",
    "from statsmodels.graphics.gofplots import qqplot\n",
    "qqplot(US_2019.SalaryUSD, line = 's')"
   ]
  },
  {
   "cell_type": "markdown",
   "metadata": {},
   "source": [
    "So, how do we interpret this plot? Well, deviations of the blue dots from the red line show a deviation from the distribution we are comparing with (gaussian). Based on this, we can say that our feature does not seem to be a good match for normal distribution. If the data were normally distributed, most of the blue points would be on the red line,which is not the case.Even though there are many blue points on the line, there are many more not on it. This indicates that the data would assume a different distrution, as we have observed in the histogram.\n"
   ]
  },
  {
   "cell_type": "markdown",
   "metadata": {},
   "source": [
    " # Quantitative Normality Test"
   ]
  },
  {
   "cell_type": "markdown",
   "metadata": {},
   "source": [
    "In addition to the preveous analysis, we will use two quantitative tests to check the normality of our data. Let's start with the Shapiro-Wilk Test which evaluates an specific sample and quantifies how likely it is that the data will follow a normal distribution. As far as I know, Shapiro-Wilk test is not only a reliable test but also a widely used one and we can apply it using the shapiro() function from SciPy library. This function returns both the W-statistics calculated by the test and the p-value.\n",
    "\n",
    "The Second test we'll use is the D'Agosino's k^2 Test. This normality test calculates the kurtosis and the skewness of the data to determine if they follow a Gaussian distribution. Basically what the test does is the combination of skew and kurtosis of the sample to produce an omnibus test of normality.For those who are not familiar with these terms, kurtosis is the quantification of how much of the distribution is in the tails, and skew is the quantification of how much the distribution is pushed right or left ( it measures the asymmetry in the distribution). In order to calculate de statistic and the p-value, we'll use the normaltest() function from SciPy library.\n",
    "\n"
   ]
  },
  {
   "cell_type": "markdown",
   "metadata": {},
   "source": [
    "### Shapiro-Wilk Test"
   ]
  },
  {
   "cell_type": "code",
   "execution_count": 21,
   "metadata": {},
   "outputs": [
    {
     "name": "stdout",
     "output_type": "stream",
     "text": [
      "P-value: 0.000\n",
      "Sample does not look gaussian ( regect H0)\n"
     ]
    }
   ],
   "source": [
    "from scipy.stats import shapiro\n",
    "statistic,p = shapiro(US_2019.SalaryUSD)\n",
    "print(f'P-value: {p :<.3f}')\n",
    "\n",
    "#For a threshold of 5% (alpha)\n",
    "if p > 0.05:\n",
    "    print(f'Sample looks Gaussian (fail to regect H0)')\n",
    "else:\n",
    "    print(f'Sample does not look gaussian ( regect H0)')\n"
   ]
  },
  {
   "cell_type": "markdown",
   "metadata": {},
   "source": [
    "###  D'Agosino's k2 Test\n"
   ]
  },
  {
   "cell_type": "code",
   "execution_count": 22,
   "metadata": {},
   "outputs": [
    {
     "name": "stdout",
     "output_type": "stream",
     "text": [
      "P-value:0.000\n",
      "Sample does not look gaussian (regect H0)\n"
     ]
    }
   ],
   "source": [
    "from scipy.stats import normaltest\n",
    "statistic,p = normaltest(US_2019.SalaryUSD)\n",
    "\n",
    "print(f'P-value:{p:<.3f}')\n",
    "\n",
    "\n",
    "#For a threshould of 5% (alpha)\n",
    "if p > 0.05:\n",
    "    print(f'Sample looks Gaussian (fail to regect H0)')\n",
    "else:\n",
    "    print(f'Sample does not look gaussian (regect H0)')"
   ]
  },
  {
   "cell_type": "markdown",
   "metadata": {},
   "source": [
    "Since we've analysed our tests, both in qualitative and quantitative manners, we can make an assumption about the data. All of the tests and visualization techniques we've used so far **do not indicate a normal distribution.** \n",
    "\n",
    "source : https://web.archive.org/web/20120325140006/http://www.cee.mtu.edu/~vgriffis/CE%205620%20materials/CE5620%20Reading/DAgostino%20et%20al%20-%20normaility%20tests.pdf"
   ]
  },
  {
   "cell_type": "markdown",
   "metadata": {},
   "source": [
    "# Outliers"
   ]
  },
  {
   "cell_type": "markdown",
   "metadata": {},
   "source": [
    "To make sure our data represents our problem properly, we have be aware of the possibility of having ourliers in our data set. Outliers are entries that are ouside a the range of what is expected and unlike the other observations. They affect the skewness of our data distribution and, consequently, some statistical terms such as standard deviation and mean.In particular, these measures are highly sensitive to outliers due to the way they are calculated. "
   ]
  },
  {
   "cell_type": "markdown",
   "metadata": {},
   "source": [
    "Let's split our data by gender and plot a boxplot so that we will be able to ilustrate our data through their quartiles.This can also helps us to identify some potencial outliers, such as those data located ouside the whiskers in the plot."
   ]
  },
  {
   "cell_type": "code",
   "execution_count": 23,
   "metadata": {},
   "outputs": [
    {
     "data": {
      "text/plain": [
       "<matplotlib.axes._subplots.AxesSubplot at 0x294bffe7d30>"
      ]
     },
     "execution_count": 23,
     "metadata": {},
     "output_type": "execute_result"
    },
    {
     "data": {
      "image/png": "[encoded data removed]",
      "text/plain": [
       "<matplotlib.figure.Figure at 0x294bffd5ac8>"
      ]
     },
     "metadata": {},
     "output_type": "display_data"
    }
   ],
   "source": [
    "fig = plt.figure(figsize = (10,8))\n",
    "sns.boxplot(x = 'Gender', y = 'SalaryUSD', data = US_2019)"
   ]
  },
  {
   "cell_type": "markdown",
   "metadata": {},
   "source": [
    "# Statistics"
   ]
  },
  {
   "cell_type": "markdown",
   "metadata": {},
   "source": [
    "Let's calculate some terms so that we can have some clue about the data."
   ]
  },
  {
   "cell_type": "code",
   "execution_count": 24,
   "metadata": {
    "collapsed": true
   },
   "outputs": [],
   "source": [
    "\n",
    "def statistics(salary):\n",
    "    #Import variation\n",
    "    from scipy.stats import variation\n",
    "    #Calculate terms\n",
    "    mean = salary.mean()\n",
    "    median = salary.median()\n",
    "    mode = salary.mode()\n",
    "    kurtosis = salary.kurtosis()\n",
    "    skew = salary.skew()\n",
    "    CV = variation(salary)\n",
    "    #dict\n",
    "    stats = [('Country', ['United States']),\n",
    "             ('Mean',[round(mean,2)]),\n",
    "             ('Median',[round(median,2)]),\n",
    "             ('Mode',  [int(mode)]),\n",
    "             ('Kurtosis',[round(kurtosis,2)]),\n",
    "            ('Skew',[round(skew,2)]),\n",
    "             ('Coefficient of variation',[round(CV,2)])  \n",
    "            ]\n",
    "    #dataframe\n",
    "    stats_df = pd.DataFrame.from_items(stats)          \n",
    "    return stats_df"
   ]
  },
  {
   "cell_type": "code",
   "execution_count": 25,
   "metadata": {},
   "outputs": [
    {
     "data": {
      "text/html": [
       "<div>\n",
       "<style>\n",
       "    .dataframe thead tr:only-child th {\n",
       "        text-align: right;\n",
       "    }\n",
       "\n",
       "    .dataframe thead th {\n",
       "        text-align: left;\n",
       "    }\n",
       "\n",
       "    .dataframe tbody tr th {\n",
       "        vertical-align: top;\n",
       "    }\n",
       "</style>\n",
       "<table border=\"1\" class=\"dataframe\">\n",
       "  <thead>\n",
       "    <tr style=\"text-align: right;\">\n",
       "      <th></th>\n",
       "      <th>Country</th>\n",
       "      <th>Mean</th>\n",
       "      <th>Median</th>\n",
       "      <th>Mode</th>\n",
       "      <th>Kurtosis</th>\n",
       "      <th>Skew</th>\n",
       "      <th>Coefficient of variation</th>\n",
       "    </tr>\n",
       "  </thead>\n",
       "  <tbody>\n",
       "    <tr>\n",
       "      <th>0</th>\n",
       "      <td>United States</td>\n",
       "      <td>107376.44</td>\n",
       "      <td>103000.0</td>\n",
       "      <td>80000</td>\n",
       "      <td>73.03</td>\n",
       "      <td>6.04</td>\n",
       "      <td>0.43</td>\n",
       "    </tr>\n",
       "  </tbody>\n",
       "</table>\n",
       "</div>"
      ],
      "text/plain": [
       "         Country       Mean    Median   Mode  Kurtosis  Skew  \\\n",
       "0  United States  107376.44  103000.0  80000     73.03  6.04   \n",
       "\n",
       "   Coefficient of variation  \n",
       "0                      0.43  "
      ]
     },
     "execution_count": 25,
     "metadata": {},
     "output_type": "execute_result"
    }
   ],
   "source": [
    "# Apply statistics function\n",
    "Salary_statistics = statistics(US_2019['SalaryUSD'])\n",
    "Salary_statistics"
   ]
  },
  {
   "cell_type": "markdown",
   "metadata": {},
   "source": [
    "So, once we have calculated these statistics we are able to identify some characteristics of our data. First, the median and mean are greater than the mode. This means that the right tail of the distribution is longer, or in other words, the data is positive skewed. Second, the skewness of our data is greater than 1, confirming the highly skewness of it. Third, the high kurtosis in our data set indicates that its distribution has heavy tail or outliers - we have to investicate it. Finally, the coefficient of variation (CV) which is a statistic measure of the dispersion of data points in a data set around its mean, indicates that our sample has a significant variation of 43%, relative to its mean."
   ]
  },
  {
   "cell_type": "markdown",
   "metadata": {},
   "source": [
    "Up to this point, all analysis we have made give us evidence that our **data does not** follow a normal distribution. Besides, the high kurtosis can be** an indicator of outliers**. Let's investicate it. "
   ]
  },
  {
   "cell_type": "markdown",
   "metadata": {},
   "source": [
    "## Interquartile Range"
   ]
  },
  {
   "cell_type": "markdown",
   "metadata": {},
   "source": [
    "We need a reasonable standard deviation for our analysis. What do I mean by that ? Well, the standard deviation represents how spread the data are from its mean and, as I've said before, this measure is highly affected by outliers. In addition, we will see later that the standard error is sensible to the standard deviation of the population and because of that we want to filter out outliers."
   ]
  },
  {
   "cell_type": "markdown",
   "metadata": {},
   "source": [
    "Right. We know that we have to filter out the outliers. But how can we do that? The answer is simple : we will use the interquatile range for that."
   ]
  },
  {
   "cell_type": "markdown",
   "metadata": {},
   "source": [
    "Interquartile Range is basically the distance between the third quartile and the first quartile. In our case, the table below shows that Q3 = $ 123.600,00 and Q1 = 83.000,00. Let's calculate the difference between them and determine our Interquartile Range (IQR).\n"
   ]
  },
  {
   "cell_type": "code",
   "execution_count": 26,
   "metadata": {},
   "outputs": [
    {
     "data": {
      "text/html": [
       "<div>\n",
       "<style>\n",
       "    .dataframe thead tr:only-child th {\n",
       "        text-align: right;\n",
       "    }\n",
       "\n",
       "    .dataframe thead th {\n",
       "        text-align: left;\n",
       "    }\n",
       "\n",
       "    .dataframe tbody tr th {\n",
       "        vertical-align: top;\n",
       "    }\n",
       "</style>\n",
       "<table border=\"1\" class=\"dataframe\">\n",
       "  <thead>\n",
       "    <tr style=\"text-align: right;\">\n",
       "      <th></th>\n",
       "      <th>SalaryUSD</th>\n",
       "    </tr>\n",
       "  </thead>\n",
       "  <tbody>\n",
       "    <tr>\n",
       "      <th>count</th>\n",
       "      <td>601.000</td>\n",
       "    </tr>\n",
       "    <tr>\n",
       "      <th>mean</th>\n",
       "      <td>107376.438</td>\n",
       "    </tr>\n",
       "    <tr>\n",
       "      <th>std</th>\n",
       "      <td>45800.578</td>\n",
       "    </tr>\n",
       "    <tr>\n",
       "      <th>min</th>\n",
       "      <td>11100.000</td>\n",
       "    </tr>\n",
       "    <tr>\n",
       "      <th>25%</th>\n",
       "      <td>83000.000</td>\n",
       "    </tr>\n",
       "    <tr>\n",
       "      <th>50%</th>\n",
       "      <td>103000.000</td>\n",
       "    </tr>\n",
       "    <tr>\n",
       "      <th>75%</th>\n",
       "      <td>123600.000</td>\n",
       "    </tr>\n",
       "    <tr>\n",
       "      <th>max</th>\n",
       "      <td>750000.000</td>\n",
       "    </tr>\n",
       "  </tbody>\n",
       "</table>\n",
       "</div>"
      ],
      "text/plain": [
       "        SalaryUSD\n",
       "count     601.000\n",
       "mean   107376.438\n",
       "std     45800.578\n",
       "min     11100.000\n",
       "25%     83000.000\n",
       "50%    103000.000\n",
       "75%    123600.000\n",
       "max    750000.000"
      ]
     },
     "execution_count": 26,
     "metadata": {},
     "output_type": "execute_result"
    }
   ],
   "source": [
    "#Statistics\n",
    "round(US_2019.SalaryUSD.describe().to_frame(),3)"
   ]
  },
  {
   "cell_type": "code",
   "execution_count": 27,
   "metadata": {},
   "outputs": [
    {
     "name": "stdout",
     "output_type": "stream",
     "text": [
      "Q3:123600.0\n",
      "Q1:83000.0\n",
      "Interquartile Range: 40600.0\n"
     ]
    }
   ],
   "source": [
    "#Calculate the percentiles - 25 and 75 %\n",
    "q75, q25 = np.percentile(US_2019.SalaryUSD , [75 ,25])\n",
    "print(f'Q3:{q75}')\n",
    "print(f'Q1:{q25}')\n",
    "# Calculate the percentile Range\n",
    "iqr = q75 - q25\n",
    "print(f'Interquartile Range: {iqr}')"
   ]
  },
  {
   "cell_type": "markdown",
   "metadata": {},
   "source": [
    "Now that we have our IQR we are able to filter the outliers out of our data set.We will do this conseding that any data outside plus(+) and minus(-) 1.5 * IQR is an outlier."
   ]
  },
  {
   "cell_type": "code",
   "execution_count": 28,
   "metadata": {},
   "outputs": [
    {
     "name": "stdout",
     "output_type": "stream",
     "text": [
      "Minimun salary (threshould) : 42100.0\n",
      "Maximun salary (threshould) : 163900.0\n"
     ]
    }
   ],
   "source": [
    "# IQR +/- 40600\n",
    "min_salary = US_2019.SalaryUSD.median() - 1.5*iqr\n",
    "max_salary = US_2019.SalaryUSD.median() + 1.5*iqr\n",
    "print(f'Minimun salary (threshould) : {min_salary}')\n",
    "print(f'Maximun salary (threshould) : {max_salary}')"
   ]
  },
  {
   "cell_type": "code",
   "execution_count": 29,
   "metadata": {},
   "outputs": [
    {
     "data": {
      "text/html": [
       "<div>\n",
       "<style>\n",
       "    .dataframe thead tr:only-child th {\n",
       "        text-align: right;\n",
       "    }\n",
       "\n",
       "    .dataframe thead th {\n",
       "        text-align: left;\n",
       "    }\n",
       "\n",
       "    .dataframe tbody tr th {\n",
       "        vertical-align: top;\n",
       "    }\n",
       "</style>\n",
       "<table border=\"1\" class=\"dataframe\">\n",
       "  <thead>\n",
       "    <tr style=\"text-align: right;\">\n",
       "      <th></th>\n",
       "      <th>Survey_Year</th>\n",
       "      <th>Country</th>\n",
       "      <th>SalaryUSD</th>\n",
       "      <th>JobTitle</th>\n",
       "      <th>YearsWithThisTypeOfJob</th>\n",
       "      <th>Education</th>\n",
       "      <th>Certifications</th>\n",
       "      <th>PopulationOfLargestCityWithin20Miles</th>\n",
       "      <th>Gender</th>\n",
       "    </tr>\n",
       "  </thead>\n",
       "  <tbody>\n",
       "    <tr>\n",
       "      <th>6011</th>\n",
       "      <td>2019</td>\n",
       "      <td>United States</td>\n",
       "      <td>128500.0</td>\n",
       "      <td>Architect</td>\n",
       "      <td>15</td>\n",
       "      <td>Bachelors (4 years)</td>\n",
       "      <td>No, I never have</td>\n",
       "      <td>300K-1M (large city)</td>\n",
       "      <td>Male</td>\n",
       "    </tr>\n",
       "    <tr>\n",
       "      <th>6013</th>\n",
       "      <td>2019</td>\n",
       "      <td>United States</td>\n",
       "      <td>110000.0</td>\n",
       "      <td>DBA (Development Focus - tunes queries, indexe...</td>\n",
       "      <td>18</td>\n",
       "      <td>Bachelors (4 years)</td>\n",
       "      <td>Yes, and they're currently valid</td>\n",
       "      <td>1M+ (metropolis)</td>\n",
       "      <td>Male</td>\n",
       "    </tr>\n",
       "    <tr>\n",
       "      <th>6015</th>\n",
       "      <td>2019</td>\n",
       "      <td>United States</td>\n",
       "      <td>65000.0</td>\n",
       "      <td>Developer: T-SQL</td>\n",
       "      <td>3</td>\n",
       "      <td>None (no degree completed)</td>\n",
       "      <td>Yes, and they're currently valid</td>\n",
       "      <td>100K-299K (city)</td>\n",
       "      <td>Male</td>\n",
       "    </tr>\n",
       "    <tr>\n",
       "      <th>6017</th>\n",
       "      <td>2019</td>\n",
       "      <td>United States</td>\n",
       "      <td>116500.0</td>\n",
       "      <td>Architect</td>\n",
       "      <td>2</td>\n",
       "      <td>Masters</td>\n",
       "      <td>Yes, and they're currently valid</td>\n",
       "      <td>1M+ (metropolis)</td>\n",
       "      <td>Male</td>\n",
       "    </tr>\n",
       "    <tr>\n",
       "      <th>6019</th>\n",
       "      <td>2019</td>\n",
       "      <td>United States</td>\n",
       "      <td>124000.0</td>\n",
       "      <td>DBA (General - splits time evenly between writ...</td>\n",
       "      <td>15</td>\n",
       "      <td>Bachelors (4 years)</td>\n",
       "      <td>Yes, but they expired</td>\n",
       "      <td>1M+ (metropolis)</td>\n",
       "      <td>Male</td>\n",
       "    </tr>\n",
       "  </tbody>\n",
       "</table>\n",
       "</div>"
      ],
      "text/plain": [
       "      Survey_Year        Country  SalaryUSD  \\\n",
       "6011         2019  United States   128500.0   \n",
       "6013         2019  United States   110000.0   \n",
       "6015         2019  United States    65000.0   \n",
       "6017         2019  United States   116500.0   \n",
       "6019         2019  United States   124000.0   \n",
       "\n",
       "                                               JobTitle  \\\n",
       "6011                                          Architect   \n",
       "6013  DBA (Development Focus - tunes queries, indexe...   \n",
       "6015                                   Developer: T-SQL   \n",
       "6017                                          Architect   \n",
       "6019  DBA (General - splits time evenly between writ...   \n",
       "\n",
       "      YearsWithThisTypeOfJob                   Education  \\\n",
       "6011                      15         Bachelors (4 years)   \n",
       "6013                      18         Bachelors (4 years)   \n",
       "6015                       3  None (no degree completed)   \n",
       "6017                       2                     Masters   \n",
       "6019                      15         Bachelors (4 years)   \n",
       "\n",
       "                        Certifications PopulationOfLargestCityWithin20Miles  \\\n",
       "6011                  No, I never have                 300K-1M (large city)   \n",
       "6013  Yes, and they're currently valid                     1M+ (metropolis)   \n",
       "6015  Yes, and they're currently valid                     100K-299K (city)   \n",
       "6017  Yes, and they're currently valid                     1M+ (metropolis)   \n",
       "6019             Yes, but they expired                     1M+ (metropolis)   \n",
       "\n",
       "     Gender  \n",
       "6011   Male  \n",
       "6013   Male  \n",
       "6015   Male  \n",
       "6017   Male  \n",
       "6019   Male  "
      ]
     },
     "execution_count": 29,
     "metadata": {},
     "output_type": "execute_result"
    }
   ],
   "source": [
    "#data set within the range\n",
    "US_2019_No_Outliers = US_2019[(US_2019.SalaryUSD>=min_salary) & (US_2019.SalaryUSD <= max_salary)]\n",
    "US_2019_No_Outliers.head()"
   ]
  },
  {
   "cell_type": "markdown",
   "metadata": {},
   "source": [
    "After the removal of outliers, we can see how our data set has changed. First, the boxplot shows no outliers for both genders. Second the data distribution roughly represents a gaussian. Moreover, the mean is now closer to the median the Coefficient of variation is only 25% which means that our data is evenly distributed within the range we have defined."
   ]
  },
  {
   "cell_type": "code",
   "execution_count": 30,
   "metadata": {},
   "outputs": [
    {
     "data": {
      "text/plain": [
       "<matplotlib.axes._subplots.AxesSubplot at 0x294bb6cb2e8>"
      ]
     },
     "execution_count": 30,
     "metadata": {},
     "output_type": "execute_result"
    },
    {
     "data": {
      "image/png": "[encoded data removed]",
      "text/plain": [
       "<matplotlib.figure.Figure at 0x294bffe32b0>"
      ]
     },
     "metadata": {},
     "output_type": "display_data"
    }
   ],
   "source": [
    "# Boxplot with data within the range\n",
    "fig = plt.figure(figsize = (10,8))\n",
    "sns.boxplot(x = 'Gender', y = 'SalaryUSD', data = US_2019_No_Outliers)"
   ]
  },
  {
   "cell_type": "code",
   "execution_count": 31,
   "metadata": {},
   "outputs": [
    {
     "data": {
      "text/plain": [
       "<matplotlib.axes._subplots.AxesSubplot at 0x294c136e128>"
      ]
     },
     "execution_count": 31,
     "metadata": {},
     "output_type": "execute_result"
    },
    {
     "data": {
      "image/png": "[encoded data removed]",
      "text/plain": [
       "<matplotlib.figure.Figure at 0x294bffd5940>"
      ]
     },
     "metadata": {},
     "output_type": "display_data"
    }
   ],
   "source": [
    "from scipy import stats\n",
    "sns.distplot(US_2019_No_Outliers.SalaryUSD, fit = stats.norm)\n"
   ]
  },
  {
   "cell_type": "code",
   "execution_count": 32,
   "metadata": {},
   "outputs": [
    {
     "data": {
      "text/html": [
       "<div>\n",
       "<style>\n",
       "    .dataframe thead tr:only-child th {\n",
       "        text-align: right;\n",
       "    }\n",
       "\n",
       "    .dataframe thead th {\n",
       "        text-align: left;\n",
       "    }\n",
       "\n",
       "    .dataframe tbody tr th {\n",
       "        vertical-align: top;\n",
       "    }\n",
       "</style>\n",
       "<table border=\"1\" class=\"dataframe\">\n",
       "  <thead>\n",
       "    <tr style=\"text-align: right;\">\n",
       "      <th></th>\n",
       "      <th>Country</th>\n",
       "      <th>Mean</th>\n",
       "      <th>Median</th>\n",
       "      <th>Mode</th>\n",
       "      <th>Kurtosis</th>\n",
       "      <th>Skew</th>\n",
       "      <th>Coefficient of variation</th>\n",
       "    </tr>\n",
       "  </thead>\n",
       "  <tbody>\n",
       "    <tr>\n",
       "      <th>0</th>\n",
       "      <td>United States</td>\n",
       "      <td>101675.92</td>\n",
       "      <td>101000.0</td>\n",
       "      <td>80000</td>\n",
       "      <td>-0.54</td>\n",
       "      <td>0.15</td>\n",
       "      <td>0.25</td>\n",
       "    </tr>\n",
       "  </tbody>\n",
       "</table>\n",
       "</div>"
      ],
      "text/plain": [
       "         Country       Mean    Median   Mode  Kurtosis  Skew  \\\n",
       "0  United States  101675.92  101000.0  80000     -0.54  0.15   \n",
       "\n",
       "   Coefficient of variation  \n",
       "0                      0.25  "
      ]
     },
     "execution_count": 32,
     "metadata": {},
     "output_type": "execute_result"
    }
   ],
   "source": [
    "# statistical terms for data within the range\n",
    "Salary_statistics_No_Outliers = statistics(US_2019_No_Outliers['SalaryUSD'])\n",
    "Salary_statistics_No_Outliers"
   ]
  },
  {
   "cell_type": "markdown",
   "metadata": {},
   "source": [
    "**Statistic sumary **"
   ]
  },
  {
   "cell_type": "code",
   "execution_count": 33,
   "metadata": {},
   "outputs": [
    {
     "data": {
      "text/html": [
       "<div>\n",
       "<style>\n",
       "    .dataframe thead tr:only-child th {\n",
       "        text-align: right;\n",
       "    }\n",
       "\n",
       "    .dataframe thead th {\n",
       "        text-align: left;\n",
       "    }\n",
       "\n",
       "    .dataframe tbody tr th {\n",
       "        vertical-align: top;\n",
       "    }\n",
       "</style>\n",
       "<table border=\"1\" class=\"dataframe\">\n",
       "  <thead>\n",
       "    <tr style=\"text-align: right;\">\n",
       "      <th></th>\n",
       "      <th>Country</th>\n",
       "      <th>Mean</th>\n",
       "      <th>Median</th>\n",
       "      <th>Mode</th>\n",
       "      <th>Kurtosis</th>\n",
       "      <th>Skew</th>\n",
       "      <th>Coefficient of variation</th>\n",
       "    </tr>\n",
       "  </thead>\n",
       "  <tbody>\n",
       "    <tr>\n",
       "      <th>0</th>\n",
       "      <td>United States</td>\n",
       "      <td>107376.44</td>\n",
       "      <td>103000.0</td>\n",
       "      <td>80000</td>\n",
       "      <td>73.03</td>\n",
       "      <td>6.04</td>\n",
       "      <td>0.43</td>\n",
       "    </tr>\n",
       "    <tr>\n",
       "      <th>0</th>\n",
       "      <td>United States</td>\n",
       "      <td>101675.92</td>\n",
       "      <td>101000.0</td>\n",
       "      <td>80000</td>\n",
       "      <td>-0.54</td>\n",
       "      <td>0.15</td>\n",
       "      <td>0.25</td>\n",
       "    </tr>\n",
       "  </tbody>\n",
       "</table>\n",
       "</div>"
      ],
      "text/plain": [
       "         Country       Mean    Median   Mode  Kurtosis  Skew  \\\n",
       "0  United States  107376.44  103000.0  80000     73.03  6.04   \n",
       "0  United States  101675.92  101000.0  80000     -0.54  0.15   \n",
       "\n",
       "   Coefficient of variation  \n",
       "0                      0.43  \n",
       "0                      0.25  "
      ]
     },
     "execution_count": 33,
     "metadata": {},
     "output_type": "execute_result"
    }
   ],
   "source": [
    "#Statistical terms before and after the outlier removal\n",
    "Salary_statistics.append(Salary_statistics_No_Outliers)"
   ]
  },
  {
   "cell_type": "markdown",
   "metadata": {},
   "source": [
    "Notice that we have removed 34 entries that were above the maximum threshould and 8 that were below the minimum threshould.  This indicate that 7% of the observations **are** responsible for causing a significant variability in our data set."
   ]
  },
  {
   "cell_type": "code",
   "execution_count": 34,
   "metadata": {},
   "outputs": [
    {
     "name": "stdout",
     "output_type": "stream",
     "text": [
      "Total of salaries above the max threshould: 34\n",
      "Total of salaries below the min threshould:8\n"
     ]
    }
   ],
   "source": [
    "below_threshould = US_2019[US_2019.SalaryUSD <= min_salary]\n",
    "above_threshould = US_2019[US_2019.SalaryUSD >= max_salary]\n",
    "print(f'Total of salaries above the max threshould: {above_threshould.SalaryUSD.count()}')\n",
    "print(f'Total of salaries below the min threshould:{below_threshould.SalaryUSD.count()}')\n"
   ]
  },
  {
   "cell_type": "code",
   "execution_count": 35,
   "metadata": {},
   "outputs": [
    {
     "name": "stdout",
     "output_type": "stream",
     "text": [
      "Entries outside the range: 7.0 %\n"
     ]
    }
   ],
   "source": [
    "print(f'Entries outside the range: { round((below_threshould.SalaryUSD.count() + above_threshould.SalaryUSD.count()) / US_2019.SalaryUSD.count()*100)} %' )\n",
    "\n"
   ]
  },
  {
   "cell_type": "markdown",
   "metadata": {},
   "source": [
    "Another important aspect of the outliers is that 33 of them are male and only one is female. This suggests that **97% of the employees that make more money are male**. Isn't that intriguing?! "
   ]
  },
  {
   "cell_type": "code",
   "execution_count": 36,
   "metadata": {},
   "outputs": [
    {
     "data": {
      "text/plain": [
       "Male      33\n",
       "Female     1\n",
       "Name: Gender, dtype: int64"
      ]
     },
     "execution_count": 36,
     "metadata": {},
     "output_type": "execute_result"
    }
   ],
   "source": [
    "above_threshould.Gender.value_counts()"
   ]
  },
  {
   "cell_type": "markdown",
   "metadata": {
    "collapsed": true
   },
   "source": [
    "# Standard Error Analysis"
   ]
  },
  {
   "cell_type": "markdown",
   "metadata": {},
   "source": [
    "Now that we have a fairly balanced data set, we are able to do a Standard Error Analysis. Why would I do that ? Well, the standard Error shows us how good our data is. In other words, it measures the accuracy with which our sample represents the entire population. The formula below shows how this statistical term is calculated."
   ]
  },
  {
   "cell_type": "markdown",
   "metadata": {},
   "source": [
    "<img src=\"std_error.png\" width=\"280\" height=\"280\" align=\"center\"/>\n"
   ]
  },
  {
   "cell_type": "markdown",
   "metadata": {},
   "source": [
    "Two important **things** to notice. First, the larger the sample, the closer the sample mean will match the mean of the population. Besides, we can see through the formula that if we have a larger numer of samples, the standard error will be decreased. Second, the smaller the standard deviation of a population, the smaller the standard error. As we know, the standard deviation is a measure of spread and it is **highly** affected by outliers. This means that the standard deviation of a sample will be much larger in case of existence of an outlier in our data set."
   ]
  },
  {
   "cell_type": "code",
   "execution_count": 39,
   "metadata": {
    "collapsed": true
   },
   "outputs": [],
   "source": [
    "def mean_std_count(salary, data):\n",
    "    mean = salary.mean()\n",
    "    std = salary.std()\n",
    "    count = salary.count()\n",
    "    \n",
    "    std_error = [('Gender',[data]),\n",
    "                 ('Salary Mean',[round(mean,2)]),\n",
    "                 ('Salary std',[round(std,2)]),\n",
    "                 ('Sample',[count]) ]\n",
    "    \n",
    "    std_erro_df = pd.DataFrame.from_items(std_error)\n",
    "    return std_erro_df"
   ]
  },
  {
   "cell_type": "code",
   "execution_count": 40,
   "metadata": {},
   "outputs": [
    {
     "data": {
      "text/html": [
       "<div>\n",
       "<style>\n",
       "    .dataframe thead tr:only-child th {\n",
       "        text-align: right;\n",
       "    }\n",
       "\n",
       "    .dataframe thead th {\n",
       "        text-align: left;\n",
       "    }\n",
       "\n",
       "    .dataframe tbody tr th {\n",
       "        vertical-align: top;\n",
       "    }\n",
       "</style>\n",
       "<table border=\"1\" class=\"dataframe\">\n",
       "  <thead>\n",
       "    <tr style=\"text-align: right;\">\n",
       "      <th></th>\n",
       "      <th>Gender</th>\n",
       "      <th>Salary Mean</th>\n",
       "      <th>Salary std</th>\n",
       "      <th>Sample</th>\n",
       "    </tr>\n",
       "  </thead>\n",
       "  <tbody>\n",
       "    <tr>\n",
       "      <th>0</th>\n",
       "      <td>Female</td>\n",
       "      <td>98324.52</td>\n",
       "      <td>26211.28</td>\n",
       "      <td>58</td>\n",
       "    </tr>\n",
       "    <tr>\n",
       "      <th>0</th>\n",
       "      <td>Male</td>\n",
       "      <td>102063.91</td>\n",
       "      <td>25232.63</td>\n",
       "      <td>501</td>\n",
       "    </tr>\n",
       "    <tr>\n",
       "      <th>0</th>\n",
       "      <td>Total</td>\n",
       "      <td>101675.92</td>\n",
       "      <td>25337.53</td>\n",
       "      <td>559</td>\n",
       "    </tr>\n",
       "  </tbody>\n",
       "</table>\n",
       "</div>"
      ],
      "text/plain": [
       "   Gender  Salary Mean  Salary std  Sample\n",
       "0  Female     98324.52    26211.28      58\n",
       "0    Male    102063.91    25232.63     501\n",
       "0   Total    101675.92    25337.53     559"
      ]
     },
     "execution_count": 40,
     "metadata": {},
     "output_type": "execute_result"
    }
   ],
   "source": [
    "Female_stats = mean_std_count(US_2019_No_Outliers[US_2019_No_Outliers.Gender == 'Female'].SalaryUSD, 'Female')\n",
    "Male_stats = mean_std_count(US_2019_No_Outliers[US_2019_No_Outliers.Gender == 'Male'].SalaryUSD, 'Male')\n",
    "Salary_stats = mean_std_count(US_2019_No_Outliers.SalaryUSD, 'Total')\n",
    "Female_stats.append(Male_stats).append(Salary_stats)\n"
   ]
  },
  {
   "cell_type": "markdown",
   "metadata": {},
   "source": [
    "The table above shows us that we've got a gap in average salary of about $3700. Don't you think it is significant ? In my opinion, it seems to be quite noteworthy."
   ]
  },
  {
   "cell_type": "markdown",
   "metadata": {
    "collapsed": true
   },
   "source": [
    "Even though our data **does not** fit a normal distribution, after the removal of the outliers we've got something more concise in terms of mean and standard deviation. In addition, whether or not our data set follows a specific distribution shouldn't matter too much for our analysis since we don't need a gaussian distribution for standard error to work.  "
   ]
  },
  {
   "cell_type": "markdown",
   "metadata": {},
   "source": [
    "That being said, if we consider a normal distribution of the sample, we can say that 95% of the salary should be within the range of $51.000 - $152.350 and I don't see any problem with it. Actually it sounds right to me. "
   ]
  },
  {
   "cell_type": "code",
   "execution_count": 41,
   "metadata": {
    "collapsed": true
   },
   "outputs": [],
   "source": [
    "def standard_error(salary, data):\n",
    "    #calculate terms\n",
    "    mean = salary.mean()\n",
    "    std = salary.std()\n",
    "    count = salary.count()\n",
    "    std_error = std/((count)**(1/2))\n",
    "    min68 = mean- std_error\n",
    "    max68 = mean+ std_error\n",
    "    min95 = mean- 2*std_error\n",
    "    max95 = mean+ 2*std_error\n",
    "    \n",
    "    #create df\n",
    "    std_error = [('Gender',[data]),\n",
    "                 ('Standard Error',[round(std_error,2)]),\n",
    "                 ('Min  [68% range] ',[round(min68,2)]),\n",
    "                 ('Max [ 68% range] ',[round(max68,2)]),\n",
    "                 ('Min [95% range]',[round(min95,2)]),\n",
    "                 ('Max [95% range]',[round(max95,2)]),\n",
    "                  ]\n",
    "    \n",
    "    std_error_df = pd.DataFrame.from_items(std_error)\n",
    "    return std_error_df"
   ]
  },
  {
   "cell_type": "code",
   "execution_count": 42,
   "metadata": {},
   "outputs": [
    {
     "data": {
      "text/html": [
       "<div>\n",
       "<style>\n",
       "    .dataframe thead tr:only-child th {\n",
       "        text-align: right;\n",
       "    }\n",
       "\n",
       "    .dataframe thead th {\n",
       "        text-align: left;\n",
       "    }\n",
       "\n",
       "    .dataframe tbody tr th {\n",
       "        vertical-align: top;\n",
       "    }\n",
       "</style>\n",
       "<table border=\"1\" class=\"dataframe\">\n",
       "  <thead>\n",
       "    <tr style=\"text-align: right;\">\n",
       "      <th></th>\n",
       "      <th>Gender</th>\n",
       "      <th>Standard Error</th>\n",
       "      <th>Min  [68% range]</th>\n",
       "      <th>Max [ 68% range]</th>\n",
       "      <th>Min [95% range]</th>\n",
       "      <th>Max [95% range]</th>\n",
       "    </tr>\n",
       "  </thead>\n",
       "  <tbody>\n",
       "    <tr>\n",
       "      <th>0</th>\n",
       "      <td>Female</td>\n",
       "      <td>3441.71</td>\n",
       "      <td>94882.81</td>\n",
       "      <td>101766.23</td>\n",
       "      <td>91441.10</td>\n",
       "      <td>105207.94</td>\n",
       "    </tr>\n",
       "    <tr>\n",
       "      <th>0</th>\n",
       "      <td>Male</td>\n",
       "      <td>1127.31</td>\n",
       "      <td>100936.60</td>\n",
       "      <td>103191.22</td>\n",
       "      <td>99809.28</td>\n",
       "      <td>104318.53</td>\n",
       "    </tr>\n",
       "  </tbody>\n",
       "</table>\n",
       "</div>"
      ],
      "text/plain": [
       "   Gender  Standard Error  Min  [68% range]   Max [ 68% range]   \\\n",
       "0  Female         3441.71           94882.81          101766.23   \n",
       "0    Male         1127.31          100936.60          103191.22   \n",
       "\n",
       "   Min [95% range]  Max [95% range]  \n",
       "0         91441.10        105207.94  \n",
       "0         99809.28        104318.53  "
      ]
     },
     "execution_count": 42,
     "metadata": {},
     "output_type": "execute_result"
    }
   ],
   "source": [
    "# Female and Male salary df - without outliers\n",
    "Female_std_error = standard_error(US_2019_No_Outliers[US_2019_No_Outliers.Gender == 'Female'].SalaryUSD, 'Female')\n",
    "Male_std_error =  standard_error(US_2019_No_Outliers[US_2019_No_Outliers.Gender == 'Male'].SalaryUSD, 'Male')\n",
    "#Append male and female df\n",
    "a = Female_std_error.append(Male_std_error)\n",
    "a"
   ]
  },
  {
   "cell_type": "markdown",
   "metadata": {},
   "source": [
    "In order to interpret the data and try to set a conclusion, we have to analyse the standard error looking at the overlapping nature of the bars. In our case, the error bars overlap and the overlapping region does not contain the mean of the lower sample. Due to this fact, we can assume that there is no strong evidence that the population are either similar or different. The uncertainty is too high in both the 68% and 95% range. We can clearly see this in the bar chart below.\n"
   ]
  },
  {
   "cell_type": "code",
   "execution_count": 43,
   "metadata": {
    "collapsed": true
   },
   "outputs": [],
   "source": [
    "def mean_error_plot(salary1, salary2, gender1, gender2):\n",
    "    #Calculate terms\n",
    "    mean1 = salary1.mean()\n",
    "    mean2 = salary2.mean()\n",
    "    std1 = salary1.std()\n",
    "    std2 = salary2.std()\n",
    "    count1 = salary1.count()\n",
    "    count2 = salary2.count()\n",
    "    std_error1 = std1/((count1)**(1/2))\n",
    "    std_error2 = std2/((count2)**(1/2))\n",
    "    \n",
    "    #Create lists for plot\n",
    "    Genders = [gender1,gender2,gender1,gender2]\n",
    "    x_pos = np.arange(len(Genders))\n",
    "    Gd = [mean1,mean2,mean1,mean2]\n",
    "    error = [std_error1,std_error2,2*std_error1,2*std_error2]\n",
    "    \n",
    "    #Create the plot\n",
    "    \n",
    "    fig, ax = plt.subplots(figsize = (10,10))\n",
    "    ax.bar(x_pos, Gd, yerr=error, align='center', alpha=0.5, ecolor='black', capsize=10,color=['red', 'red', 'black', 'black'])\n",
    "    ax.set_ylabel('Salary [$]')\n",
    "    ax.set_xticks(x_pos)\n",
    "    ax.set_xticklabels(Genders)\n",
    "    ax.set_title('Genders - Range')\n",
    "    ax.yaxis.grid(True) \n",
    "    \n",
    "    #Create horizontal lines\n",
    "    ax.axhline(y = 100936.60, color = 'r', linewidth = 1,xmin=0.143, xmax=0.38 , linestyle='dashed', alpha=0.5  )\n",
    "    ax.axhline(y = 101766.23, color = 'r', linewidth = 1,xmin=0.143, xmax=0.38, linestyle='dashed', alpha=0.5 )\n",
    "    \n",
    "    ax.axhline(y = 99809.28, color = 'r', linewidth = 1,xmin=0.62, xmax=0.85 , linestyle='dashed', alpha=0.5  )\n",
    "    ax.axhline(y = 104318.53, color = 'r', linewidth = 1,xmin=0.62, xmax=0.85, linestyle='dashed', alpha=0.5 )\n",
    "    \n",
    "    #Create legend\n",
    "    import matplotlib.patches as mpatches\n",
    "    red_patch = mpatches.Patch(color='red', label='68% range') \n",
    "    black_patch = mpatches.Patch(color='black', label='95% range')\n",
    "    plt.legend(handles=[black_patch,red_patch], loc = 'upper left')\n",
    "\n",
    "\n",
    "    \n",
    "    "
   ]
  },
  {
   "cell_type": "code",
   "execution_count": 44,
   "metadata": {},
   "outputs": [
    {
     "data": {
      "image/png": "[encoded data removed]",
      "text/plain": [
       "<matplotlib.figure.Figure at 0x294bf6c9a90>"
      ]
     },
     "metadata": {},
     "output_type": "display_data"
    }
   ],
   "source": [
    "# Create female and male dataframe - without outliers\n",
    "Female_no_out = US_2019_No_Outliers[US_2019_No_Outliers.Gender == 'Female'].SalaryUSD\n",
    "Male_no_out = US_2019_No_Outliers[US_2019_No_Outliers.Gender == 'Male'].SalaryUSD\n",
    "#apply  mean_error_plo function\n",
    "mean_error_plot(Female_no_out,Male_no_out,'Female','Male')"
   ]
  },
  {
   "cell_type": "markdown",
   "metadata": {
    "collapsed": true
   },
   "source": [
    "So, what can we do now? How about using other technique to analyse it? That is exactly what we will do! Let's compare the two means by hypothesis testing.\n"
   ]
  },
  {
   "cell_type": "markdown",
   "metadata": {
    "collapsed": true
   },
   "source": [
    "# T-student test"
   ]
  },
  {
   "cell_type": "markdown",
   "metadata": {
    "collapsed": true
   },
   "source": [
    "The reason for which we use the hypothesis test is to determine whether the null hypothesis is likely to be true given a sample data. We accept the null hypothesis if there is little evidence against it and we might reject the null hypothesis in favor of the alternative hypothesis if the null is unlikely."
   ]
  },
  {
   "cell_type": "markdown",
   "metadata": {
    "collapsed": true
   },
   "source": [
    "That being said, once we determine the null and alternative hypothesis, we are able to choose the significance level. This statistic term is the probability threshoud that determines when we reject the null hypothesis.Moreover, After performing the test, the p-value helps us to interpret the results. This value is the level of marginal significance within a test representing the probability of the occurrence of a given event.\n"
   ]
  },
  {
   "cell_type": "markdown",
   "metadata": {
    "collapsed": true
   },
   "source": [
    "Back to our case study, lets start by setting the first hypothesis as stating that both salary means( male and female) are equal. Consequently, we will assume that the alternative hypothesis is that both means are not equal. In order to do that, we will carry out the two-sample T-test with the stats.ttest_ind() function.\n"
   ]
  },
  {
   "cell_type": "markdown",
   "metadata": {},
   "source": [
    "*Assumptions:\n",
    "We are assuming that both sample are normally distributed and have the same variance.*\n",
    " "
   ]
  },
  {
   "cell_type": "markdown",
   "metadata": {},
   "source": [
    "Let's run the two sample t-test on both data with outliers and without it so that we can have some insight and consequently draw a conclusion."
   ]
  },
  {
   "cell_type": "code",
   "execution_count": 45,
   "metadata": {
    "collapsed": true
   },
   "outputs": [],
   "source": [
    "# Import t-test function\n",
    "from scipy.stats import ttest_ind"
   ]
  },
  {
   "cell_type": "code",
   "execution_count": 46,
   "metadata": {},
   "outputs": [
    {
     "data": {
      "text/plain": [
       "Ttest_indResult(statistic=-1.0325157111876422, pvalue=0.30539518126507581)"
      ]
     },
     "execution_count": 46,
     "metadata": {},
     "output_type": "execute_result"
    }
   ],
   "source": [
    "# T-test - data without outliers\n",
    "ttest_no_outliers = stats.ttest_ind(a = Female_no_out, b = Male_no_out, equal_var= False)\n",
    "ttest_no_outliers"
   ]
  },
  {
   "cell_type": "code",
   "execution_count": 47,
   "metadata": {},
   "outputs": [
    {
     "name": "stdout",
     "output_type": "stream",
     "text": [
      "P-value of data without outliers: 0.31\n"
     ]
    }
   ],
   "source": [
    "pvalue_no_outliers = round(ttest_no_outliers[1],2)\n",
    "print(f'P-value of data without outliers: {pvalue_no_outliers}')"
   ]
  },
  {
   "cell_type": "markdown",
   "metadata": {},
   "source": [
    "The test gives us a p-value of 0.31 which is greather than the significance value ( 0.05). In this case, we cannot reject the null hypothesis. Thus we would expect to find same gender sample means in 31% of our samples.\n"
   ]
  },
  {
   "cell_type": "markdown",
   "metadata": {},
   "source": [
    "Now let's carry out the test on the salary data which includes outliers on them."
   ]
  },
  {
   "cell_type": "code",
   "execution_count": 48,
   "metadata": {
    "collapsed": true
   },
   "outputs": [],
   "source": [
    "# Filter salary by gender considering outliers\n",
    "Female_salary_with_outliers = US_2019[US_2019.Gender == 'Female'].SalaryUSD\n",
    "Male_salary_with_outilers = US_2019[US_2019.Gender == 'Male'].SalaryUSD"
   ]
  },
  {
   "cell_type": "code",
   "execution_count": 49,
   "metadata": {},
   "outputs": [
    {
     "data": {
      "text/plain": [
       "Ttest_indResult(statistic=-2.3854558298019302, pvalue=0.018938208446227438)"
      ]
     },
     "execution_count": 49,
     "metadata": {},
     "output_type": "execute_result"
    }
   ],
   "source": [
    "#T-test on data with outliers\n",
    "ttest_outliers = stats.ttest_ind(a = Female_salary_with_outliers, b = Male_salary_with_outilers, equal_var= False)\n",
    "ttest_outliers"
   ]
  },
  {
   "cell_type": "code",
   "execution_count": 50,
   "metadata": {},
   "outputs": [
    {
     "name": "stdout",
     "output_type": "stream",
     "text": [
      "P-value of data without outliers: 0.02\n"
     ]
    }
   ],
   "source": [
    "pvalue_outliers = round(ttest_outliers[1],2)\n",
    "print(f'P-value of data without outliers: {pvalue_outliers}')"
   ]
  },
  {
   "cell_type": "markdown",
   "metadata": {},
   "source": [
    "As we can see above, if we keep the outliers we can say that men and women are not paid equally due tue the p-value of 0.02  which is lower than the level of significance (0.05). So, this suggests that there is indeed a difference between male and female salary when we include the outliers in the data set.\n"
   ]
  },
  {
   "cell_type": "markdown",
   "metadata": {
    "collapsed": true
   },
   "source": [
    "# Conclusion"
   ]
  },
  {
   "cell_type": "markdown",
   "metadata": {},
   "source": [
    "After the analysis and assumptions we've made, I would say that it seems that both genders are getting paid equally in normal employment. However when we incudes the amount of people that are much better paid in our test, we can see a gap in numbers of outliers - 97% of them are men."
   ]
  },
  {
   "cell_type": "markdown",
   "metadata": {
    "collapsed": true
   },
   "source": [
    "I know that it was a broad analysis. If we looked deep into all features, we would probably have found out reasons for that conclusion. In case you want to analyse it better, feel free to find the data on Brent’s original blog and apply all your knowledge. Please, let me know your conclusion! "
   ]
  }
 ],
 "metadata": {
  "kernelspec": {
   "display_name": "Python 3",
   "language": "python",
   "name": "python3"
  },
  "language_info": {
   "codemirror_mode": {
    "name": "ipython",
    "version": 3
   },
   "file_extension": ".py",
   "mimetype": "text/x-python",
   "name": "python",
   "nbconvert_exporter": "python",
   "pygments_lexer": "ipython3",
   "version": "3.6.1"
  }
 },
 "nbformat": 4,
 "nbformat_minor": 2
}
